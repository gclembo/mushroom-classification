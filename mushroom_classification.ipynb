{
 "cells": [
  {
   "cell_type": "markdown",
   "id": "25729898-78fb-41ee-a464-0a9011808489",
   "metadata": {},
   "source": [
    "## Import Packages"
   ]
  },
  {
   "cell_type": "code",
   "execution_count": 1,
   "id": "f5de35aa-b4bb-4839-b767-163fa93b5bc4",
   "metadata": {
    "editable": true,
    "slideshow": {
     "slide_type": ""
    },
    "tags": []
   },
   "outputs": [],
   "source": [
    "import pandas as pd\n",
    "import numpy as np\n",
    "\n",
    "import matplotlib.pyplot as plt\n",
    "import seaborn as sns\n",
    "\n",
    "mushroom_data = pd.read_csv(\"./data/mushrooms.csv\")\n"
   ]
  },
  {
   "cell_type": "markdown",
   "id": "b6602aec-2b5b-488c-b02a-4dd83dcf259a",
   "metadata": {
    "editable": true,
    "slideshow": {
     "slide_type": ""
    },
    "tags": []
   },
   "source": [
    "## Look at Data\n",
    "\n",
    "The data I am using can be found on Kaggle here: https://www.kaggle.com/datasets/uciml/mushroom-classification. It gives various description variables about mushrooms and as well as a variable specifying if the mushroom is poisonous. I plan to use this data to train a model to predict if a mushroom is poisonous based on its properties. \n",
    "\n"
   ]
  },
  {
   "cell_type": "code",
   "execution_count": 2,
   "id": "d047533a-bf66-45df-9db6-aeb73a732dfd",
   "metadata": {},
   "outputs": [
    {
     "data": {
      "text/html": [
       "<div>\n",
       "<style scoped>\n",
       "    .dataframe tbody tr th:only-of-type {\n",
       "        vertical-align: middle;\n",
       "    }\n",
       "\n",
       "    .dataframe tbody tr th {\n",
       "        vertical-align: top;\n",
       "    }\n",
       "\n",
       "    .dataframe thead th {\n",
       "        text-align: right;\n",
       "    }\n",
       "</style>\n",
       "<table border=\"1\" class=\"dataframe\">\n",
       "  <thead>\n",
       "    <tr style=\"text-align: right;\">\n",
       "      <th></th>\n",
       "      <th>class</th>\n",
       "      <th>cap-shape</th>\n",
       "      <th>cap-surface</th>\n",
       "      <th>cap-color</th>\n",
       "      <th>bruises</th>\n",
       "      <th>odor</th>\n",
       "      <th>gill-attachment</th>\n",
       "      <th>gill-spacing</th>\n",
       "      <th>gill-size</th>\n",
       "      <th>gill-color</th>\n",
       "      <th>...</th>\n",
       "      <th>stalk-surface-below-ring</th>\n",
       "      <th>stalk-color-above-ring</th>\n",
       "      <th>stalk-color-below-ring</th>\n",
       "      <th>veil-type</th>\n",
       "      <th>veil-color</th>\n",
       "      <th>ring-number</th>\n",
       "      <th>ring-type</th>\n",
       "      <th>spore-print-color</th>\n",
       "      <th>population</th>\n",
       "      <th>habitat</th>\n",
       "    </tr>\n",
       "  </thead>\n",
       "  <tbody>\n",
       "    <tr>\n",
       "      <th>0</th>\n",
       "      <td>p</td>\n",
       "      <td>x</td>\n",
       "      <td>s</td>\n",
       "      <td>n</td>\n",
       "      <td>t</td>\n",
       "      <td>p</td>\n",
       "      <td>f</td>\n",
       "      <td>c</td>\n",
       "      <td>n</td>\n",
       "      <td>k</td>\n",
       "      <td>...</td>\n",
       "      <td>s</td>\n",
       "      <td>w</td>\n",
       "      <td>w</td>\n",
       "      <td>p</td>\n",
       "      <td>w</td>\n",
       "      <td>o</td>\n",
       "      <td>p</td>\n",
       "      <td>k</td>\n",
       "      <td>s</td>\n",
       "      <td>u</td>\n",
       "    </tr>\n",
       "    <tr>\n",
       "      <th>1</th>\n",
       "      <td>e</td>\n",
       "      <td>x</td>\n",
       "      <td>s</td>\n",
       "      <td>y</td>\n",
       "      <td>t</td>\n",
       "      <td>a</td>\n",
       "      <td>f</td>\n",
       "      <td>c</td>\n",
       "      <td>b</td>\n",
       "      <td>k</td>\n",
       "      <td>...</td>\n",
       "      <td>s</td>\n",
       "      <td>w</td>\n",
       "      <td>w</td>\n",
       "      <td>p</td>\n",
       "      <td>w</td>\n",
       "      <td>o</td>\n",
       "      <td>p</td>\n",
       "      <td>n</td>\n",
       "      <td>n</td>\n",
       "      <td>g</td>\n",
       "    </tr>\n",
       "    <tr>\n",
       "      <th>2</th>\n",
       "      <td>e</td>\n",
       "      <td>b</td>\n",
       "      <td>s</td>\n",
       "      <td>w</td>\n",
       "      <td>t</td>\n",
       "      <td>l</td>\n",
       "      <td>f</td>\n",
       "      <td>c</td>\n",
       "      <td>b</td>\n",
       "      <td>n</td>\n",
       "      <td>...</td>\n",
       "      <td>s</td>\n",
       "      <td>w</td>\n",
       "      <td>w</td>\n",
       "      <td>p</td>\n",
       "      <td>w</td>\n",
       "      <td>o</td>\n",
       "      <td>p</td>\n",
       "      <td>n</td>\n",
       "      <td>n</td>\n",
       "      <td>m</td>\n",
       "    </tr>\n",
       "    <tr>\n",
       "      <th>3</th>\n",
       "      <td>p</td>\n",
       "      <td>x</td>\n",
       "      <td>y</td>\n",
       "      <td>w</td>\n",
       "      <td>t</td>\n",
       "      <td>p</td>\n",
       "      <td>f</td>\n",
       "      <td>c</td>\n",
       "      <td>n</td>\n",
       "      <td>n</td>\n",
       "      <td>...</td>\n",
       "      <td>s</td>\n",
       "      <td>w</td>\n",
       "      <td>w</td>\n",
       "      <td>p</td>\n",
       "      <td>w</td>\n",
       "      <td>o</td>\n",
       "      <td>p</td>\n",
       "      <td>k</td>\n",
       "      <td>s</td>\n",
       "      <td>u</td>\n",
       "    </tr>\n",
       "    <tr>\n",
       "      <th>4</th>\n",
       "      <td>e</td>\n",
       "      <td>x</td>\n",
       "      <td>s</td>\n",
       "      <td>g</td>\n",
       "      <td>f</td>\n",
       "      <td>n</td>\n",
       "      <td>f</td>\n",
       "      <td>w</td>\n",
       "      <td>b</td>\n",
       "      <td>k</td>\n",
       "      <td>...</td>\n",
       "      <td>s</td>\n",
       "      <td>w</td>\n",
       "      <td>w</td>\n",
       "      <td>p</td>\n",
       "      <td>w</td>\n",
       "      <td>o</td>\n",
       "      <td>e</td>\n",
       "      <td>n</td>\n",
       "      <td>a</td>\n",
       "      <td>g</td>\n",
       "    </tr>\n",
       "  </tbody>\n",
       "</table>\n",
       "<p>5 rows × 23 columns</p>\n",
       "</div>"
      ],
      "text/plain": [
       "  class cap-shape cap-surface cap-color bruises odor gill-attachment  \\\n",
       "0     p         x           s         n       t    p               f   \n",
       "1     e         x           s         y       t    a               f   \n",
       "2     e         b           s         w       t    l               f   \n",
       "3     p         x           y         w       t    p               f   \n",
       "4     e         x           s         g       f    n               f   \n",
       "\n",
       "  gill-spacing gill-size gill-color  ... stalk-surface-below-ring  \\\n",
       "0            c         n          k  ...                        s   \n",
       "1            c         b          k  ...                        s   \n",
       "2            c         b          n  ...                        s   \n",
       "3            c         n          n  ...                        s   \n",
       "4            w         b          k  ...                        s   \n",
       "\n",
       "  stalk-color-above-ring stalk-color-below-ring veil-type veil-color  \\\n",
       "0                      w                      w         p          w   \n",
       "1                      w                      w         p          w   \n",
       "2                      w                      w         p          w   \n",
       "3                      w                      w         p          w   \n",
       "4                      w                      w         p          w   \n",
       "\n",
       "  ring-number ring-type spore-print-color population habitat  \n",
       "0           o         p                 k          s       u  \n",
       "1           o         p                 n          n       g  \n",
       "2           o         p                 n          n       m  \n",
       "3           o         p                 k          s       u  \n",
       "4           o         e                 n          a       g  \n",
       "\n",
       "[5 rows x 23 columns]"
      ]
     },
     "execution_count": 2,
     "metadata": {},
     "output_type": "execute_result"
    }
   ],
   "source": [
    "mushroom_data.head()\n"
   ]
  },
  {
   "cell_type": "code",
   "execution_count": 3,
   "id": "50c9805a-5a20-4140-8161-db4ffe05579e",
   "metadata": {},
   "outputs": [
    {
     "data": {
      "text/html": [
       "<div>\n",
       "<style scoped>\n",
       "    .dataframe tbody tr th:only-of-type {\n",
       "        vertical-align: middle;\n",
       "    }\n",
       "\n",
       "    .dataframe tbody tr th {\n",
       "        vertical-align: top;\n",
       "    }\n",
       "\n",
       "    .dataframe thead th {\n",
       "        text-align: right;\n",
       "    }\n",
       "</style>\n",
       "<table border=\"1\" class=\"dataframe\">\n",
       "  <thead>\n",
       "    <tr style=\"text-align: right;\">\n",
       "      <th>class</th>\n",
       "      <th>e</th>\n",
       "      <th>p</th>\n",
       "    </tr>\n",
       "    <tr>\n",
       "      <th>veil-type</th>\n",
       "      <th></th>\n",
       "      <th></th>\n",
       "    </tr>\n",
       "  </thead>\n",
       "  <tbody>\n",
       "    <tr>\n",
       "      <th>p</th>\n",
       "      <td>0.517971</td>\n",
       "      <td>0.482029</td>\n",
       "    </tr>\n",
       "  </tbody>\n",
       "</table>\n",
       "</div>"
      ],
      "text/plain": [
       "class             e         p\n",
       "veil-type                    \n",
       "p          0.517971  0.482029"
      ]
     },
     "execution_count": 3,
     "metadata": {},
     "output_type": "execute_result"
    }
   ],
   "source": [
    "    \n",
    "features = mushroom_data.columns.tolist()\n",
    "features.pop(0)\n",
    "\n",
    "cross_table = pd.crosstab(mushroom_data[\"veil-type\"], mushroom_data[\"class\"], normalize=\"index\").sort_values(by=\"e\")\n",
    "cross_table"
   ]
  },
  {
   "cell_type": "markdown",
   "id": "41192468-3085-4c0f-b948-2893db3d7cf5",
   "metadata": {},
   "source": [
    "## Unnecessary Variable\n",
    "\n",
    "The variable `veil-type` has only 1 value so I will remove it.\n"
   ]
  },
  {
   "cell_type": "code",
   "execution_count": 4,
   "id": "5684adce-d4c8-4b54-b004-fb747a244a5c",
   "metadata": {},
   "outputs": [],
   "source": [
    "features.remove(\"veil-type\")\n"
   ]
  },
  {
   "cell_type": "markdown",
   "id": "0fdd43e1",
   "metadata": {},
   "source": [
    "## Pipeline"
   ]
  },
  {
   "cell_type": "code",
   "execution_count": 5,
   "id": "42622d9b",
   "metadata": {},
   "outputs": [],
   "source": [
    "from sklearn.compose import ColumnTransformer\n",
    "from sklearn.pipeline import Pipeline\n",
    "from sklearn.preprocessing import OneHotEncoder\n",
    "\n",
    "def get_pipeline(X, model):\n",
    "    cat_features = X.columns\n",
    "    oh_encoder = OneHotEncoder(handle_unknown=\"ignore\", sparse_output=False)\n",
    "    preprocessor = ColumnTransformer(transformers=[\n",
    "        (\"cat_encoder\", oh_encoder, cat_features)\n",
    "    ]).set_output(transform=\"pandas\")\n",
    "    pipeline = Pipeline(steps=[\n",
    "        (\"preprocessor\", preprocessor),\n",
    "        (\"model\", model)\n",
    "    ])\n",
    "    return pipeline\n",
    "\n"
   ]
  },
  {
   "cell_type": "markdown",
   "id": "d0f18cbc-71e6-447d-b62d-44f22510097f",
   "metadata": {},
   "source": [
    "## Split data \n",
    "\n",
    "I am encoding the target to be if the mushroom is edible. I then encode the features and split the data. \n"
   ]
  },
  {
   "cell_type": "code",
   "execution_count": 6,
   "id": "39c8ed27-c939-4d01-9115-cf8ef655e338",
   "metadata": {},
   "outputs": [],
   "source": [
    "from sklearn.model_selection import train_test_split\n",
    "from sklearn.metrics import f1_score\n",
    "\n",
    "pd.set_option('future.no_silent_downcasting', True)\n",
    "y = mushroom_data[\"class\"].replace([\"e\", \"p\"], [1, 0]).astype(int)\n",
    "\n",
    "X_train, X_val, y_train, y_val = train_test_split(mushroom_data[features], y, random_state=123)\n",
    "\n"
   ]
  },
  {
   "cell_type": "markdown",
   "id": "89401ac7-c931-420d-a90b-847afc8aa2f9",
   "metadata": {},
   "source": [
    "## Train Model\n",
    "\n",
    "I am creating a decision tree classifier and fitting it to the training data. When testing the model with the testing data, I got an f1 score of 1, which is perfect."
   ]
  },
  {
   "cell_type": "code",
   "execution_count": 7,
   "id": "67a785fd-90fb-4f79-a5b7-9d2adfb0492f",
   "metadata": {},
   "outputs": [
    {
     "name": "stdout",
     "output_type": "stream",
     "text": [
      "1.0\n"
     ]
    }
   ],
   "source": [
    "from sklearn.tree import DecisionTreeClassifier\n",
    "\n",
    "model = DecisionTreeClassifier(max_depth=10, random_state=123)\n",
    "\n",
    "my_pipeline = get_pipeline(X_train, model)\n",
    "\n",
    "my_pipeline.fit(X_train, y_train)\n",
    "\n",
    "predictions = my_pipeline.predict(X_val)\n",
    "\n",
    "print(f1_score(predictions, y_val))\n"
   ]
  },
  {
   "cell_type": "markdown",
   "id": "aa384e8f-30f9-44c6-8c30-42bcad78a0e8",
   "metadata": {},
   "source": [
    "## Feature Importances\n",
    "\n",
    "Maybe some of these features are not necessary for the model to still perform well. Looking at the importances of each category I can see what features factor into decisions. The most important of these are odor, stalk-root, spore-print-color, ring-type, stalk-surface-below-ring."
   ]
  },
  {
   "cell_type": "code",
   "execution_count": 8,
   "id": "8c75863b-2dd0-4c0f-91e7-de23111fd423",
   "metadata": {},
   "outputs": [
    {
     "data": {
      "text/plain": [
       "[Text(0.5, 1.0, 'Feature Importances')]"
      ]
     },
     "execution_count": 8,
     "metadata": {},
     "output_type": "execute_result"
    },
    {
     "data": {
      "image/png": "[encoded data removed]",
      "text/plain": [
       "<Figure size 640x480 with 1 Axes>"
      ]
     },
     "metadata": {},
     "output_type": "display_data"
    }
   ],
   "source": [
    "importances = my_pipeline.named_steps[\"model\"].feature_importances_\n",
    "feature_names = my_pipeline.named_steps[\"preprocessor\"].get_feature_names_out()\n",
    "\n",
    "feature_scores = pd.DataFrame({\"feature\": feature_names, \"importance\": importances})\n",
    "important_scores = feature_scores.sort_values(by=\"importance\", ascending=False).loc[feature_scores[\"importance\"] > 0]\n",
    "sns.barplot(data=important_scores, x=\"importance\", y=\"feature\").set(title=\"Feature Importances\")"
   ]
  },
  {
   "cell_type": "markdown",
   "id": "c0bf04b1-a34c-41ef-9a32-f53439ac4734",
   "metadata": {},
   "source": [
    "As we can see from this plot, odor is a good predictor of whether a mushroom is edible or not. "
   ]
  },
  {
   "cell_type": "code",
   "execution_count": 9,
   "id": "2f963461-817b-4bef-8d7e-829338c90b0d",
   "metadata": {},
   "outputs": [
    {
     "data": {
      "text/plain": [
       "<matplotlib.legend.Legend at 0x2565881d940>"
      ]
     },
     "execution_count": 9,
     "metadata": {},
     "output_type": "execute_result"
    },
    {
     "data": {
      "image/png": "[encoded data removed]",
      "text/plain": [
       "<Figure size 640x480 with 1 Axes>"
      ]
     },
     "metadata": {},
     "output_type": "display_data"
    }
   ],
   "source": [
    "cross_table = pd.crosstab(mushroom_data[\"odor\"], mushroom_data[\"class\"], normalize=\"index\").sort_values(by=\"e\")\n",
    "cross_table.plot(kind=\"barh\", stacked=True)\n",
    "plt.legend(bbox_to_anchor=(1.02, 1))\n"
   ]
  },
  {
   "cell_type": "markdown",
   "id": "bbaf4fe4-3939-4f90-b37e-f87f0bab6dbc",
   "metadata": {},
   "source": [
    "## Minimal Features\n",
    "\n",
    "Using only the top 3 most important features, I am able to create a model with an f1 score of 0.993 which is almost perfect. "
   ]
  },
  {
   "cell_type": "code",
   "execution_count": 10,
   "id": "b07cf661-9b6a-4146-aef5-3f0debf277ca",
   "metadata": {},
   "outputs": [
    {
     "name": "stdout",
     "output_type": "stream",
     "text": [
      "0.993032977241059\n"
     ]
    }
   ],
   "source": [
    "important_features =  [\"odor\", \"stalk-root\", \"spore-print-color\"]\n",
    "X_train, X_val, y_train, y_val = train_test_split(mushroom_data[important_features], y, random_state=123)\n",
    "\n",
    "my_pipeline = get_pipeline(X_train, model)\n",
    "my_pipeline.fit(X_train, y_train)\n",
    "\n",
    "predictions = my_pipeline.predict(X_val)\n",
    "print(f1_score(predictions, y_val))\n"
   ]
  },
  {
   "cell_type": "markdown",
   "id": "c14c52f0-bae4-49e6-93ac-ad193bc350a7",
   "metadata": {},
   "source": [
    "## More Features \n",
    "\n",
    "For a model predicting something that could be important like if a mushroom is edible or poisonous I might want the best model I can get. For this model I will use all features which are important. "
   ]
  },
  {
   "cell_type": "code",
   "execution_count": 11,
   "id": "a0118c0b-86e4-48b9-9757-38375ccb1b07",
   "metadata": {},
   "outputs": [
    {
     "name": "stdout",
     "output_type": "stream",
     "text": [
      "1.0\n"
     ]
    }
   ],
   "source": [
    "important_features =  [\"odor\", \"stalk-root\", \"spore-print-color\", \"ring-type\", \n",
    "                       \"stalk-surface-below-ring\", \"population\", \"cap-surface\", \"bruises\", \"gill-size\"]\n",
    "X_train, X_val, y_train, y_val = train_test_split(mushroom_data[important_features], y, random_state=123)\n",
    "\n",
    "my_pipeline = get_pipeline(X_train, model)\n",
    "my_pipeline.fit(X_train, y_train)\n",
    "\n",
    "predictions = my_pipeline.predict(X_val)\n",
    "print(f1_score(predictions, y_val))"
   ]
  },
  {
   "cell_type": "markdown",
   "id": "5e8180d3-bdee-4f9a-83ab-ff783ebf8c1b",
   "metadata": {},
   "source": [
    "## Fitting All Data\n",
    "\n",
    "Fitting all data and looking at importances. "
   ]
  },
  {
   "cell_type": "code",
   "execution_count": 12,
   "id": "26882efa-a283-45a8-99e7-4e73979a90d1",
   "metadata": {},
   "outputs": [
    {
     "data": {
      "text/plain": [
       "[Text(0.5, 1.0, 'Feature Importances')]"
      ]
     },
     "execution_count": 12,
     "metadata": {},
     "output_type": "execute_result"
    },
    {
     "data": {
      "image/png": "[encoded data removed]",
      "text/plain": [
       "<Figure size 640x480 with 1 Axes>"
      ]
     },
     "metadata": {},
     "output_type": "display_data"
    }
   ],
   "source": [
    "\n",
    "my_pipeline = get_pipeline(mushroom_data[important_features], model)\n",
    "my_pipeline.fit(mushroom_data[important_features], y)\n",
    "\n",
    "importances = my_pipeline.named_steps[\"model\"].feature_importances_\n",
    "feature_names = my_pipeline.named_steps[\"preprocessor\"].get_feature_names_out()\n",
    "\n",
    "feature_scores = pd.DataFrame({\"feature\": feature_names, \"importance\": importances})\n",
    "important_scores = feature_scores.sort_values(by=\"importance\", ascending=False).loc[feature_scores[\"importance\"] > 0]\n",
    "sns.barplot(data=important_scores, x=\"importance\", y=\"feature\").set(title=\"Feature Importances\")"
   ]
  }
 ],
 "metadata": {
  "kernelspec": {
   "display_name": "Python 3 (ipykernel)",
   "language": "python",
   "name": "python3"
  },
  "language_info": {
   "codemirror_mode": {
    "name": "ipython",
    "version": 3
   },
   "file_extension": ".py",
   "mimetype": "text/x-python",
   "name": "python",
   "nbconvert_exporter": "python",
   "pygments_lexer": "ipython3",
   "version": "3.12.3"
  }
 },
 "nbformat": 4,
 "nbformat_minor": 5
}
